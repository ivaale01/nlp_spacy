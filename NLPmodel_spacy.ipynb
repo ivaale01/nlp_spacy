{
  "cells": [
    {
      "cell_type": "markdown",
      "metadata": {
        "id": "dor7FlidZh1S"
      },
      "source": [
        "# NLP model using Spacy"
      ]
    },
    {
      "cell_type": "markdown",
      "metadata": {
        "id": "1hCdQqckZh1T"
      },
      "source": [
        "# 1. Introduction to Spacy"
      ]
    },
    {
      "cell_type": "markdown",
      "metadata": {
        "id": "TWt1GP_LZh1U"
      },
      "source": [
        "Link: https://spacy.io/ Here we can go to models and choose the language we would like to use."
      ]
    },
    {
      "cell_type": "code",
      "execution_count": null,
      "metadata": {
        "colab": {
          "base_uri": "https://localhost:8080/"
        },
        "id": "CykrsaINZh1V",
        "outputId": "33d43e7e-2fb9-47de-e07b-31db8adac1ce"
      },
      "outputs": [
        {
          "output_type": "stream",
          "name": "stdout",
          "text": [
            "2022-09-01 08:23:40.141958: E tensorflow/stream_executor/cuda/cuda_driver.cc:271] failed call to cuInit: CUDA_ERROR_NO_DEVICE: no CUDA-capable device is detected\n",
            "Looking in indexes: https://pypi.org/simple, https://us-python.pkg.dev/colab-wheels/public/simple/\n",
            "Collecting es-core-news-sm==3.4.0\n",
            "  Downloading https://github.com/explosion/spacy-models/releases/download/es_core_news_sm-3.4.0/es_core_news_sm-3.4.0-py3-none-any.whl (12.9 MB)\n",
            "\u001b[K     |████████████████████████████████| 12.9 MB 8.0 MB/s \n",
            "\u001b[?25hRequirement already satisfied: spacy<3.5.0,>=3.4.0 in /usr/local/lib/python3.7/dist-packages (from es-core-news-sm==3.4.0) (3.4.1)\n",
            "Requirement already satisfied: tqdm<5.0.0,>=4.38.0 in /usr/local/lib/python3.7/dist-packages (from spacy<3.5.0,>=3.4.0->es-core-news-sm==3.4.0) (4.64.0)\n",
            "Requirement already satisfied: murmurhash<1.1.0,>=0.28.0 in /usr/local/lib/python3.7/dist-packages (from spacy<3.5.0,>=3.4.0->es-core-news-sm==3.4.0) (1.0.8)\n",
            "Requirement already satisfied: catalogue<2.1.0,>=2.0.6 in /usr/local/lib/python3.7/dist-packages (from spacy<3.5.0,>=3.4.0->es-core-news-sm==3.4.0) (2.0.8)\n",
            "Requirement already satisfied: requests<3.0.0,>=2.13.0 in /usr/local/lib/python3.7/dist-packages (from spacy<3.5.0,>=3.4.0->es-core-news-sm==3.4.0) (2.23.0)\n",
            "Requirement already satisfied: wasabi<1.1.0,>=0.9.1 in /usr/local/lib/python3.7/dist-packages (from spacy<3.5.0,>=3.4.0->es-core-news-sm==3.4.0) (0.10.1)\n",
            "Requirement already satisfied: thinc<8.2.0,>=8.1.0 in /usr/local/lib/python3.7/dist-packages (from spacy<3.5.0,>=3.4.0->es-core-news-sm==3.4.0) (8.1.0)\n",
            "Requirement already satisfied: srsly<3.0.0,>=2.4.3 in /usr/local/lib/python3.7/dist-packages (from spacy<3.5.0,>=3.4.0->es-core-news-sm==3.4.0) (2.4.4)\n",
            "Requirement already satisfied: typing-extensions<4.2.0,>=3.7.4 in /usr/local/lib/python3.7/dist-packages (from spacy<3.5.0,>=3.4.0->es-core-news-sm==3.4.0) (4.1.1)\n",
            "Requirement already satisfied: pathy>=0.3.5 in /usr/local/lib/python3.7/dist-packages (from spacy<3.5.0,>=3.4.0->es-core-news-sm==3.4.0) (0.6.2)\n",
            "Requirement already satisfied: jinja2 in /usr/local/lib/python3.7/dist-packages (from spacy<3.5.0,>=3.4.0->es-core-news-sm==3.4.0) (2.11.3)\n",
            "Requirement already satisfied: langcodes<4.0.0,>=3.2.0 in /usr/local/lib/python3.7/dist-packages (from spacy<3.5.0,>=3.4.0->es-core-news-sm==3.4.0) (3.3.0)\n",
            "Requirement already satisfied: pydantic!=1.8,!=1.8.1,<1.10.0,>=1.7.4 in /usr/local/lib/python3.7/dist-packages (from spacy<3.5.0,>=3.4.0->es-core-news-sm==3.4.0) (1.9.2)\n",
            "Requirement already satisfied: preshed<3.1.0,>=3.0.2 in /usr/local/lib/python3.7/dist-packages (from spacy<3.5.0,>=3.4.0->es-core-news-sm==3.4.0) (3.0.7)\n",
            "Requirement already satisfied: numpy>=1.15.0 in /usr/local/lib/python3.7/dist-packages (from spacy<3.5.0,>=3.4.0->es-core-news-sm==3.4.0) (1.21.6)\n",
            "Requirement already satisfied: spacy-loggers<2.0.0,>=1.0.0 in /usr/local/lib/python3.7/dist-packages (from spacy<3.5.0,>=3.4.0->es-core-news-sm==3.4.0) (1.0.3)\n",
            "Requirement already satisfied: cymem<2.1.0,>=2.0.2 in /usr/local/lib/python3.7/dist-packages (from spacy<3.5.0,>=3.4.0->es-core-news-sm==3.4.0) (2.0.6)\n",
            "Requirement already satisfied: typer<0.5.0,>=0.3.0 in /usr/local/lib/python3.7/dist-packages (from spacy<3.5.0,>=3.4.0->es-core-news-sm==3.4.0) (0.4.2)\n",
            "Requirement already satisfied: packaging>=20.0 in /usr/local/lib/python3.7/dist-packages (from spacy<3.5.0,>=3.4.0->es-core-news-sm==3.4.0) (21.3)\n",
            "Requirement already satisfied: setuptools in /usr/local/lib/python3.7/dist-packages (from spacy<3.5.0,>=3.4.0->es-core-news-sm==3.4.0) (57.4.0)\n",
            "Requirement already satisfied: spacy-legacy<3.1.0,>=3.0.9 in /usr/local/lib/python3.7/dist-packages (from spacy<3.5.0,>=3.4.0->es-core-news-sm==3.4.0) (3.0.10)\n",
            "Requirement already satisfied: zipp>=0.5 in /usr/local/lib/python3.7/dist-packages (from catalogue<2.1.0,>=2.0.6->spacy<3.5.0,>=3.4.0->es-core-news-sm==3.4.0) (3.8.1)\n",
            "Requirement already satisfied: pyparsing!=3.0.5,>=2.0.2 in /usr/local/lib/python3.7/dist-packages (from packaging>=20.0->spacy<3.5.0,>=3.4.0->es-core-news-sm==3.4.0) (3.0.9)\n",
            "Requirement already satisfied: smart-open<6.0.0,>=5.2.1 in /usr/local/lib/python3.7/dist-packages (from pathy>=0.3.5->spacy<3.5.0,>=3.4.0->es-core-news-sm==3.4.0) (5.2.1)\n",
            "Requirement already satisfied: idna<3,>=2.5 in /usr/local/lib/python3.7/dist-packages (from requests<3.0.0,>=2.13.0->spacy<3.5.0,>=3.4.0->es-core-news-sm==3.4.0) (2.10)\n",
            "Requirement already satisfied: urllib3!=1.25.0,!=1.25.1,<1.26,>=1.21.1 in /usr/local/lib/python3.7/dist-packages (from requests<3.0.0,>=2.13.0->spacy<3.5.0,>=3.4.0->es-core-news-sm==3.4.0) (1.24.3)\n",
            "Requirement already satisfied: chardet<4,>=3.0.2 in /usr/local/lib/python3.7/dist-packages (from requests<3.0.0,>=2.13.0->spacy<3.5.0,>=3.4.0->es-core-news-sm==3.4.0) (3.0.4)\n",
            "Requirement already satisfied: certifi>=2017.4.17 in /usr/local/lib/python3.7/dist-packages (from requests<3.0.0,>=2.13.0->spacy<3.5.0,>=3.4.0->es-core-news-sm==3.4.0) (2022.6.15)\n",
            "Requirement already satisfied: blis<0.8.0,>=0.7.8 in /usr/local/lib/python3.7/dist-packages (from thinc<8.2.0,>=8.1.0->spacy<3.5.0,>=3.4.0->es-core-news-sm==3.4.0) (0.7.8)\n",
            "Requirement already satisfied: click<9.0.0,>=7.1.1 in /usr/local/lib/python3.7/dist-packages (from typer<0.5.0,>=0.3.0->spacy<3.5.0,>=3.4.0->es-core-news-sm==3.4.0) (7.1.2)\n",
            "Requirement already satisfied: MarkupSafe>=0.23 in /usr/local/lib/python3.7/dist-packages (from jinja2->spacy<3.5.0,>=3.4.0->es-core-news-sm==3.4.0) (2.0.1)\n",
            "Installing collected packages: es-core-news-sm\n",
            "Successfully installed es-core-news-sm-3.4.0\n",
            "\u001b[38;5;2m✔ Download and installation successful\u001b[0m\n",
            "You can now load the package via spacy.load('es_core_news_sm')\n"
          ]
        }
      ],
      "source": [
        "!python -m spacy download es_core_news_sm"
      ]
    },
    {
      "cell_type": "code",
      "source": [
        "import spacy"
      ],
      "metadata": {
        "id": "qPLUmxXbaiec"
      },
      "execution_count": null,
      "outputs": []
    },
    {
      "cell_type": "code",
      "source": [
        "nlp = spacy.load(\"es_core_news_sm\") #loading the Spanish language package and storing it in a variable"
      ],
      "metadata": {
        "id": "r9RkQUzYakn5"
      },
      "execution_count": null,
      "outputs": []
    },
    {
      "cell_type": "code",
      "source": [
        "nlp"
      ],
      "metadata": {
        "colab": {
          "base_uri": "https://localhost:8080/"
        },
        "id": "veezLqSqa2qT",
        "outputId": "a229767a-7e02-447a-cf7e-1f5a3fb43287"
      },
      "execution_count": null,
      "outputs": [
        {
          "output_type": "execute_result",
          "data": {
            "text/plain": [
              "<spacy.lang.es.Spanish at 0x7fc07e552e50>"
            ]
          },
          "metadata": {},
          "execution_count": 4
        }
      ]
    },
    {
      "cell_type": "code",
      "source": [
        "document = \"\"\"La situación de la pandemia en el\n",
        "mundo cada vez se vuelve más compleja. En la actualidad, cada país está afrontando\n",
        "distintos problemas sociales, sanitarios y económicos, lo que ha llevado a una merma\n",
        "en la calidad de vida de las personas, principalmente de bajos recursos. Dicho esto, \n",
        "es fundamental tener políticas adecuadas para enfrentar la incertidumbre.\"\"\""
      ],
      "metadata": {
        "id": "CyWPrl8ca7bP"
      },
      "execution_count": null,
      "outputs": []
    },
    {
      "cell_type": "code",
      "source": [
        "document_spacy = nlp(document)"
      ],
      "metadata": {
        "id": "d2c2icmVhmAr"
      },
      "execution_count": null,
      "outputs": []
    },
    {
      "cell_type": "code",
      "source": [
        "document_spacy"
      ],
      "metadata": {
        "colab": {
          "base_uri": "https://localhost:8080/"
        },
        "id": "l7t_OTKuhrwb",
        "outputId": "e0d29376-f0c3-4ef3-c84b-b043f8dbcdb6"
      },
      "execution_count": null,
      "outputs": [
        {
          "output_type": "execute_result",
          "data": {
            "text/plain": [
              "La situación de la pandemia en el\n",
              "mundo cada vez se vuelve más compleja. En la actualidad, cada país está afrontando\n",
              "distintos problemas sociales, sanitarios y económicos, lo que ha llevado a una merma\n",
              "en la calidad de vida de las personas, principalmente de bajos recursos. Dicho esto, \n",
              "es fundamental tener políticas adecuadas para enfrentar la incertidumbre."
            ]
          },
          "metadata": {},
          "execution_count": 7
        }
      ]
    },
    {
      "cell_type": "code",
      "source": [
        "type(document_spacy) #a class called 'doc' from the library spacy. This class includes the text and all the results\n",
        "#that are going to be applied on the text once we call a model, e.g. tokenization"
      ],
      "metadata": {
        "colab": {
          "base_uri": "https://localhost:8080/"
        },
        "id": "QnRIrn0hhzSv",
        "outputId": "f7b8c78f-0ef6-4916-ebb5-f864b6c0b232"
      },
      "execution_count": null,
      "outputs": [
        {
          "output_type": "execute_result",
          "data": {
            "text/plain": [
              "spacy.tokens.doc.Doc"
            ]
          },
          "metadata": {},
          "execution_count": 8
        }
      ]
    },
    {
      "cell_type": "markdown",
      "metadata": {
        "id": "pZM0teu0Zh1V"
      },
      "source": [
        "## 2. Text preprocessing\n"
      ]
    },
    {
      "cell_type": "code",
      "execution_count": null,
      "metadata": {
        "colab": {
          "base_uri": "https://localhost:8080/"
        },
        "id": "4PR9UL3TZh1W",
        "outputId": "3f6b0ab5-01a8-4cdf-c2ad-73b8dd0c5511"
      },
      "outputs": [
        {
          "output_type": "stream",
          "name": "stdout",
          "text": [
            "La\n",
            "situación\n",
            "de\n",
            "la\n",
            "pandemia\n",
            "en\n",
            "el\n",
            "\n",
            "\n",
            "mundo\n",
            "cada\n",
            "vez\n",
            "se\n",
            "vuelve\n",
            "más\n",
            "compleja\n",
            ".\n",
            "En\n",
            "la\n",
            "actualidad\n",
            ",\n",
            "cada\n",
            "país\n",
            "está\n",
            "afrontando\n",
            "\n",
            "\n",
            "distintos\n",
            "problemas\n",
            "sociales\n",
            ",\n",
            "sanitarios\n",
            "y\n",
            "económicos\n",
            ",\n",
            "lo\n",
            "que\n",
            "ha\n",
            "llevado\n",
            "a\n",
            "una\n",
            "merma\n",
            "\n",
            "\n",
            "en\n",
            "la\n",
            "calidad\n",
            "de\n",
            "vida\n",
            "de\n",
            "las\n",
            "personas\n",
            ",\n",
            "principalmente\n",
            "de\n",
            "bajos\n",
            "recursos\n",
            ".\n",
            "Dicho\n",
            "esto\n",
            ",\n",
            "\n",
            "\n",
            "es\n",
            "fundamental\n",
            "tener\n",
            "políticas\n",
            "adecuadas\n",
            "para\n",
            "enfrentar\n",
            "la\n",
            "incertidumbre\n",
            ".\n"
          ]
        }
      ],
      "source": [
        "for token in document_spacy:\n",
        "  print(token)"
      ]
    },
    {
      "cell_type": "markdown",
      "source": [
        "Detect and remove stop words. For example, the first paragraph, words such as 'la', 'de' don't give much value. Note that **commas and dots are not stop words**, but they also need to be removed."
      ],
      "metadata": {
        "id": "VSY9Z2qljiN6"
      }
    },
    {
      "cell_type": "code",
      "execution_count": null,
      "metadata": {
        "colab": {
          "base_uri": "https://localhost:8080/"
        },
        "id": "KvQ8wObsZh1W",
        "outputId": "a8cc697d-f724-4b41-b202-6409ef98f6a7"
      },
      "outputs": [
        {
          "output_type": "stream",
          "name": "stdout",
          "text": [
            "La -- True -- False\n",
            "situación -- False -- False\n",
            "de -- True -- False\n",
            "la -- True -- False\n",
            "pandemia -- False -- False\n",
            "en -- True -- False\n",
            "el -- True -- False\n",
            "\n",
            " -- False -- False\n",
            "mundo -- False -- False\n",
            "cada -- True -- False\n",
            "vez -- True -- False\n",
            "se -- True -- False\n",
            "vuelve -- False -- False\n",
            "más -- True -- False\n",
            "compleja -- False -- False\n",
            ". -- False -- True\n",
            "En -- True -- False\n",
            "la -- True -- False\n",
            "actualidad -- False -- False\n",
            ", -- False -- True\n",
            "cada -- True -- False\n",
            "país -- False -- False\n",
            "está -- True -- False\n",
            "afrontando -- False -- False\n",
            "\n",
            " -- False -- False\n",
            "distintos -- False -- False\n",
            "problemas -- False -- False\n",
            "sociales -- False -- False\n",
            ", -- False -- True\n",
            "sanitarios -- False -- False\n",
            "y -- True -- False\n",
            "económicos -- False -- False\n",
            ", -- False -- True\n",
            "lo -- True -- False\n",
            "que -- True -- False\n",
            "ha -- True -- False\n",
            "llevado -- False -- False\n",
            "a -- True -- False\n",
            "una -- True -- False\n",
            "merma -- False -- False\n",
            "\n",
            " -- False -- False\n",
            "en -- True -- False\n",
            "la -- True -- False\n",
            "calidad -- False -- False\n",
            "de -- True -- False\n",
            "vida -- False -- False\n",
            "de -- True -- False\n",
            "las -- True -- False\n",
            "personas -- False -- False\n",
            ", -- False -- True\n",
            "principalmente -- False -- False\n",
            "de -- True -- False\n",
            "bajos -- False -- False\n",
            "recursos -- False -- False\n",
            ". -- False -- True\n",
            "Dicho -- True -- False\n",
            "esto -- True -- False\n",
            ", -- False -- True\n",
            "\n",
            " -- False -- False\n",
            "es -- True -- False\n",
            "fundamental -- False -- False\n",
            "tener -- True -- False\n",
            "políticas -- False -- False\n",
            "adecuadas -- False -- False\n",
            "para -- True -- False\n",
            "enfrentar -- False -- False\n",
            "la -- True -- False\n",
            "incertidumbre -- False -- False\n",
            ". -- False -- True\n"
          ]
        }
      ],
      "source": [
        "for token in document_spacy:\n",
        "  print(token.text, '--', token.is_stop, '--', token.is_punct)"
      ]
    },
    {
      "cell_type": "code",
      "source": [
        "document_spacy_clean = [token for token in document_spacy if not token.is_stop and not token.is_punct]\n",
        "#just leave the text without the stop words and the puntuation"
      ],
      "metadata": {
        "id": "HWsiJqEVleV4"
      },
      "execution_count": null,
      "outputs": []
    },
    {
      "cell_type": "code",
      "source": [
        "document_spacy_clean"
      ],
      "metadata": {
        "colab": {
          "base_uri": "https://localhost:8080/"
        },
        "id": "n38NY8clmAXb",
        "outputId": "4ee26369-8116-4dc7-dcd2-4bb19f558588"
      },
      "execution_count": null,
      "outputs": [
        {
          "output_type": "execute_result",
          "data": {
            "text/plain": [
              "[situación,\n",
              " pandemia,\n",
              " ,\n",
              " mundo,\n",
              " vuelve,\n",
              " compleja,\n",
              " actualidad,\n",
              " país,\n",
              " afrontando,\n",
              " ,\n",
              " distintos,\n",
              " problemas,\n",
              " sociales,\n",
              " sanitarios,\n",
              " económicos,\n",
              " llevado,\n",
              " merma,\n",
              " ,\n",
              " calidad,\n",
              " vida,\n",
              " personas,\n",
              " principalmente,\n",
              " bajos,\n",
              " recursos,\n",
              " ,\n",
              " fundamental,\n",
              " políticas,\n",
              " adecuadas,\n",
              " enfrentar,\n",
              " incertidumbre]"
            ]
          },
          "metadata": {},
          "execution_count": 12
        }
      ]
    },
    {
      "cell_type": "markdown",
      "source": [
        "LEMMATIZATION\n",
        "Good strategy if we want to compare texts and see if they are similar, if they refer to similar issues. We get the original word, the meaning of each word (the lemma). "
      ],
      "metadata": {
        "id": "mijKQ2VWmVEn"
      }
    },
    {
      "cell_type": "code",
      "source": [
        "for token in document_spacy_clean:\n",
        "  print(token.lemma_)"
      ],
      "metadata": {
        "colab": {
          "base_uri": "https://localhost:8080/"
        },
        "id": "oynYXa8-mShK",
        "outputId": "ff3d5d3d-f4ea-4d3c-ec4f-450ee488d72b"
      },
      "execution_count": null,
      "outputs": [
        {
          "output_type": "stream",
          "name": "stdout",
          "text": [
            "situación\n",
            "pandemia\n",
            "\n",
            "\n",
            "mundo\n",
            "volver\n",
            "complejo\n",
            "actualidad\n",
            "país\n",
            "afrontar\n",
            "\n",
            "\n",
            "distinto\n",
            "problema\n",
            "social\n",
            "sanitario\n",
            "económico\n",
            "llevar\n",
            "merma\n",
            "\n",
            "\n",
            "calidad\n",
            "vida\n",
            "persona\n",
            "principalmente\n",
            "bajo\n",
            "recurso\n",
            "\n",
            "\n",
            "fundamental\n",
            "política\n",
            "adecuado\n",
            "enfrentar\n",
            "incertidumbre\n"
          ]
        }
      ]
    },
    {
      "cell_type": "markdown",
      "metadata": {
        "id": "T34FWWjNZh1W"
      },
      "source": [
        "## 3. Named-entity recognition\n"
      ]
    },
    {
      "cell_type": "code",
      "execution_count": null,
      "metadata": {
        "id": "cBs37Ll8Zh1W"
      },
      "outputs": [],
      "source": [
        "employees = \"nombre: Nestor Campos email: nestor@micorreo.com país: Chile nombre: Juana Perez email: juana@micorreo.com país:Argentina nombre: Francisca Leiva email: francisca.leiva@gmail.cl país: Uruguay \""
      ]
    },
    {
      "cell_type": "code",
      "execution_count": null,
      "metadata": {
        "id": "872eLtKsZh1W"
      },
      "outputs": [],
      "source": [
        "employees_spacy = nlp(employees)"
      ]
    },
    {
      "cell_type": "code",
      "source": [
        "for token in employees_spacy:\n",
        "  if token.like_email: #print if token has similar format to an email (like_number, url, is_digit, is_upper)\n",
        "    print(token.text)"
      ],
      "metadata": {
        "colab": {
          "base_uri": "https://localhost:8080/"
        },
        "id": "5KzylxFWok6t",
        "outputId": "387a51d9-0eff-402c-bd35-df97b1786da9"
      },
      "execution_count": null,
      "outputs": [
        {
          "output_type": "stream",
          "name": "stdout",
          "text": [
            "nestor@micorreo.com\n",
            "juana@micorreo.com\n",
            "francisca.leiva@gmail.cl\n"
          ]
        }
      ]
    },
    {
      "cell_type": "code",
      "source": [
        "print(employees_spacy.ents) #extract entities, but what kind of entities?"
      ],
      "metadata": {
        "colab": {
          "base_uri": "https://localhost:8080/"
        },
        "id": "7GbONFyNpgru",
        "outputId": "a9e27c64-e3bb-42d3-9199-4ab31975b198"
      },
      "execution_count": null,
      "outputs": [
        {
          "output_type": "stream",
          "name": "stdout",
          "text": [
            "(Nestor Campos, Chile, Juana Perez, Argentina, Francisca Leiva, Uruguay)\n"
          ]
        }
      ]
    },
    {
      "cell_type": "code",
      "source": [
        "for entity in employees_spacy.ents:\n",
        "  print(entity.text, '--', entity.label_) #the label is what we need to work with in order to get the type of entity"
      ],
      "metadata": {
        "colab": {
          "base_uri": "https://localhost:8080/"
        },
        "id": "QBMKepwsp1EM",
        "outputId": "ce929816-d192-43f5-fa8a-7f954f9b3486"
      },
      "execution_count": null,
      "outputs": [
        {
          "output_type": "stream",
          "name": "stdout",
          "text": [
            "Nestor Campos -- PER\n",
            "Chile -- LOC\n",
            "Juana Perez -- PER\n",
            "Argentina -- LOC\n",
            "Francisca Leiva -- PER\n",
            "Uruguay -- LOC\n"
          ]
        }
      ]
    },
    {
      "cell_type": "code",
      "source": [
        "#RENDERIZATION\n",
        "from spacy import displacy\n",
        "displacy.render(employees_spacy, style= \"ent\", jupyter=True)"
      ],
      "metadata": {
        "colab": {
          "base_uri": "https://localhost:8080/",
          "height": 87
        },
        "id": "il0cHnnGtD-a",
        "outputId": "dd4a3757-7b81-4999-d3ca-30410aea801d"
      },
      "execution_count": null,
      "outputs": [
        {
          "output_type": "display_data",
          "data": {
            "text/plain": [
              "<IPython.core.display.HTML object>"
            ],
            "text/html": [
              "<span class=\"tex2jax_ignore\"><div class=\"entities\" style=\"line-height: 2.5; direction: ltr\">nombre: \n",
              "<mark class=\"entity\" style=\"background: #ddd; padding: 0.45em 0.6em; margin: 0 0.25em; line-height: 1; border-radius: 0.35em;\">\n",
              "    Nestor Campos\n",
              "    <span style=\"font-size: 0.8em; font-weight: bold; line-height: 1; border-radius: 0.35em; vertical-align: middle; margin-left: 0.5rem\">PER</span>\n",
              "</mark>\n",
              " email: nestor@micorreo.com país: \n",
              "<mark class=\"entity\" style=\"background: #ff9561; padding: 0.45em 0.6em; margin: 0 0.25em; line-height: 1; border-radius: 0.35em;\">\n",
              "    Chile\n",
              "    <span style=\"font-size: 0.8em; font-weight: bold; line-height: 1; border-radius: 0.35em; vertical-align: middle; margin-left: 0.5rem\">LOC</span>\n",
              "</mark>\n",
              " nombre: \n",
              "<mark class=\"entity\" style=\"background: #ddd; padding: 0.45em 0.6em; margin: 0 0.25em; line-height: 1; border-radius: 0.35em;\">\n",
              "    Juana Perez\n",
              "    <span style=\"font-size: 0.8em; font-weight: bold; line-height: 1; border-radius: 0.35em; vertical-align: middle; margin-left: 0.5rem\">PER</span>\n",
              "</mark>\n",
              " email: juana@micorreo.com país:\n",
              "<mark class=\"entity\" style=\"background: #ff9561; padding: 0.45em 0.6em; margin: 0 0.25em; line-height: 1; border-radius: 0.35em;\">\n",
              "    Argentina\n",
              "    <span style=\"font-size: 0.8em; font-weight: bold; line-height: 1; border-radius: 0.35em; vertical-align: middle; margin-left: 0.5rem\">LOC</span>\n",
              "</mark>\n",
              " nombre: \n",
              "<mark class=\"entity\" style=\"background: #ddd; padding: 0.45em 0.6em; margin: 0 0.25em; line-height: 1; border-radius: 0.35em;\">\n",
              "    Francisca Leiva\n",
              "    <span style=\"font-size: 0.8em; font-weight: bold; line-height: 1; border-radius: 0.35em; vertical-align: middle; margin-left: 0.5rem\">PER</span>\n",
              "</mark>\n",
              " email: francisca.leiva@gmail.cl país: \n",
              "<mark class=\"entity\" style=\"background: #ff9561; padding: 0.45em 0.6em; margin: 0 0.25em; line-height: 1; border-radius: 0.35em;\">\n",
              "    Uruguay\n",
              "    <span style=\"font-size: 0.8em; font-weight: bold; line-height: 1; border-radius: 0.35em; vertical-align: middle; margin-left: 0.5rem\">LOC</span>\n",
              "</mark>\n",
              " </div></span>"
            ]
          },
          "metadata": {}
        }
      ]
    },
    {
      "cell_type": "markdown",
      "metadata": {
        "id": "gOyxYyKeZh1X"
      },
      "source": [
        "## 4. Matching based on patterns\n"
      ]
    },
    {
      "cell_type": "code",
      "execution_count": null,
      "metadata": {
        "id": "PyfRm1VxZh1X"
      },
      "outputs": [],
      "source": [
        "my_trip = \"\"\"Hace un par de años visité Cuzco para conocer Machu Picchu.\n",
        "           También he visitado Argentina un par de veces. \n",
        "           La última vez, en 2020, pude visitar Boston.\n",
        "           \"\"\"\n",
        "#There's a common pattern in those three phrases, visitar + place      "
      ]
    },
    {
      "cell_type": "code",
      "execution_count": null,
      "metadata": {
        "id": "Yu9IUgeiZh1X"
      },
      "outputs": [],
      "source": [
        "my_trip_spacy = nlp(my_trip)"
      ]
    },
    {
      "cell_type": "code",
      "source": [
        "from spacy.matcher import Matcher"
      ],
      "metadata": {
        "id": "8lTK0LRGKmup"
      },
      "execution_count": null,
      "outputs": []
    },
    {
      "cell_type": "code",
      "source": [
        "matcher = Matcher(nlp.vocab)"
      ],
      "metadata": {
        "id": "uBraoQOpKu_v"
      },
      "execution_count": null,
      "outputs": []
    },
    {
      "cell_type": "code",
      "source": [
        "pattern = [{\"LEMMA\":\"visitar\"}, {\"POS\": \"PROPN\"}] #POS (position), PROPN (pronoun or noun)"
      ],
      "metadata": {
        "id": "bncvC7AFK6Hf"
      },
      "execution_count": null,
      "outputs": []
    },
    {
      "cell_type": "code",
      "source": [
        "matcher.add(\"lugares_visitados\", [pattern])"
      ],
      "metadata": {
        "id": "NLaLhvdTL5q6"
      },
      "execution_count": null,
      "outputs": []
    },
    {
      "cell_type": "code",
      "source": [
        "matches_trip = matcher(my_trip_spacy)\n",
        "matches_trip #it appears the matching (same numeration), then the initial and the final position of the pattern in the sentence. "
      ],
      "metadata": {
        "colab": {
          "base_uri": "https://localhost:8080/"
        },
        "id": "zbtcvzxVMKG9",
        "outputId": "281dd0b4-485f-4e0b-cd82-69d2920e53fb"
      },
      "execution_count": null,
      "outputs": [
        {
          "output_type": "execute_result",
          "data": {
            "text/plain": [
              "[(16290618549988947147, 5, 7),\n",
              " (16290618549988947147, 15, 17),\n",
              " (16290618549988947147, 31, 33)]"
            ]
          },
          "metadata": {},
          "execution_count": 28
        }
      ]
    },
    {
      "cell_type": "code",
      "source": [
        "for id_value, start, end in matches_trip:\n",
        "  print(my_trip_spacy[start:end].text)"
      ],
      "metadata": {
        "colab": {
          "base_uri": "https://localhost:8080/"
        },
        "id": "-RJvV7dQM9JA",
        "outputId": "437a6668-a5c4-4fb3-cf64-d8b947137e4b"
      },
      "execution_count": null,
      "outputs": [
        {
          "output_type": "stream",
          "name": "stdout",
          "text": [
            "visité Cuzco\n",
            "visitado Argentina\n",
            "visitar Boston\n"
          ]
        }
      ]
    },
    {
      "cell_type": "markdown",
      "metadata": {
        "id": "r6W_Pc5NZh1X"
      },
      "source": [
        "## 5. Similiarity\n",
        "In Machine Learning and NLP, there are three popular similarity or distance metrics - **Euclidean distance, dot product, and cosine similarity**.\n",
        "Each word is linked to a vector, so two texts are similar when they have similar numeric values."
      ]
    },
    {
      "cell_type": "code",
      "execution_count": null,
      "metadata": {
        "id": "4iIivUeSZh1Y"
      },
      "outputs": [],
      "source": [
        "text1= nlp('malo')"
      ]
    },
    {
      "cell_type": "code",
      "execution_count": null,
      "metadata": {
        "id": "uOZkl5SIZh1Y"
      },
      "outputs": [],
      "source": [
        "text2= nlp('horrible')"
      ]
    },
    {
      "cell_type": "code",
      "execution_count": null,
      "metadata": {
        "id": "kyShmt-7Zh1Y",
        "colab": {
          "base_uri": "https://localhost:8080/"
        },
        "outputId": "d144bb80-32ac-47d1-b0d1-697570713fcc"
      },
      "outputs": [
        {
          "output_type": "stream",
          "name": "stderr",
          "text": [
            "/usr/local/lib/python3.7/dist-packages/ipykernel_launcher.py:1: UserWarning: [W007] The model you're using has no word vectors loaded, so the result of the Doc.similarity method will be based on the tagger, parser and NER, which may not give useful similarity judgements. This may happen if you're using one of the small models, e.g. `en_core_web_sm`, which don't ship with word vectors and only use context-sensitive tensors. You can always add your own word vectors, or use one of the larger models instead if available.\n",
            "  \"\"\"Entry point for launching an IPython kernel.\n"
          ]
        },
        {
          "output_type": "execute_result",
          "data": {
            "text/plain": [
              "0.24709503388408582"
            ]
          },
          "metadata": {},
          "execution_count": 41
        }
      ],
      "source": [
        "text1.similarity(text2)\n",
        "#pay attention to the warning message! Obviously, the words horrible and malo are much more similar than 24%"
      ]
    },
    {
      "cell_type": "code",
      "source": [
        "!python -m spacy download es_core_news_md #need to load a more complex model with more vectors and combinations"
      ],
      "metadata": {
        "colab": {
          "base_uri": "https://localhost:8080/"
        },
        "id": "e5ThEXbubixP",
        "outputId": "e05b0e02-3b9a-4a07-e2b7-2bea4cb9991e"
      },
      "execution_count": null,
      "outputs": [
        {
          "output_type": "stream",
          "name": "stdout",
          "text": [
            "2022-09-01 09:44:55.441656: E tensorflow/stream_executor/cuda/cuda_driver.cc:271] failed call to cuInit: CUDA_ERROR_NO_DEVICE: no CUDA-capable device is detected\n",
            "Looking in indexes: https://pypi.org/simple, https://us-python.pkg.dev/colab-wheels/public/simple/\n",
            "Collecting es-core-news-md==3.4.0\n",
            "  Downloading https://github.com/explosion/spacy-models/releases/download/es_core_news_md-3.4.0/es_core_news_md-3.4.0-py3-none-any.whl (42.3 MB)\n",
            "\u001b[K     |████████████████████████████████| 42.3 MB 1.9 MB/s \n",
            "\u001b[?25hRequirement already satisfied: spacy<3.5.0,>=3.4.0 in /usr/local/lib/python3.7/dist-packages (from es-core-news-md==3.4.0) (3.4.1)\n",
            "Requirement already satisfied: murmurhash<1.1.0,>=0.28.0 in /usr/local/lib/python3.7/dist-packages (from spacy<3.5.0,>=3.4.0->es-core-news-md==3.4.0) (1.0.8)\n",
            "Requirement already satisfied: requests<3.0.0,>=2.13.0 in /usr/local/lib/python3.7/dist-packages (from spacy<3.5.0,>=3.4.0->es-core-news-md==3.4.0) (2.23.0)\n",
            "Requirement already satisfied: typer<0.5.0,>=0.3.0 in /usr/local/lib/python3.7/dist-packages (from spacy<3.5.0,>=3.4.0->es-core-news-md==3.4.0) (0.4.2)\n",
            "Requirement already satisfied: spacy-legacy<3.1.0,>=3.0.9 in /usr/local/lib/python3.7/dist-packages (from spacy<3.5.0,>=3.4.0->es-core-news-md==3.4.0) (3.0.10)\n",
            "Requirement already satisfied: jinja2 in /usr/local/lib/python3.7/dist-packages (from spacy<3.5.0,>=3.4.0->es-core-news-md==3.4.0) (2.11.3)\n",
            "Requirement already satisfied: thinc<8.2.0,>=8.1.0 in /usr/local/lib/python3.7/dist-packages (from spacy<3.5.0,>=3.4.0->es-core-news-md==3.4.0) (8.1.0)\n",
            "Requirement already satisfied: catalogue<2.1.0,>=2.0.6 in /usr/local/lib/python3.7/dist-packages (from spacy<3.5.0,>=3.4.0->es-core-news-md==3.4.0) (2.0.8)\n",
            "Requirement already satisfied: setuptools in /usr/local/lib/python3.7/dist-packages (from spacy<3.5.0,>=3.4.0->es-core-news-md==3.4.0) (57.4.0)\n",
            "Requirement already satisfied: packaging>=20.0 in /usr/local/lib/python3.7/dist-packages (from spacy<3.5.0,>=3.4.0->es-core-news-md==3.4.0) (21.3)\n",
            "Requirement already satisfied: pathy>=0.3.5 in /usr/local/lib/python3.7/dist-packages (from spacy<3.5.0,>=3.4.0->es-core-news-md==3.4.0) (0.6.2)\n",
            "Requirement already satisfied: langcodes<4.0.0,>=3.2.0 in /usr/local/lib/python3.7/dist-packages (from spacy<3.5.0,>=3.4.0->es-core-news-md==3.4.0) (3.3.0)\n",
            "Requirement already satisfied: preshed<3.1.0,>=3.0.2 in /usr/local/lib/python3.7/dist-packages (from spacy<3.5.0,>=3.4.0->es-core-news-md==3.4.0) (3.0.7)\n",
            "Requirement already satisfied: wasabi<1.1.0,>=0.9.1 in /usr/local/lib/python3.7/dist-packages (from spacy<3.5.0,>=3.4.0->es-core-news-md==3.4.0) (0.10.1)\n",
            "Requirement already satisfied: cymem<2.1.0,>=2.0.2 in /usr/local/lib/python3.7/dist-packages (from spacy<3.5.0,>=3.4.0->es-core-news-md==3.4.0) (2.0.6)\n",
            "Requirement already satisfied: tqdm<5.0.0,>=4.38.0 in /usr/local/lib/python3.7/dist-packages (from spacy<3.5.0,>=3.4.0->es-core-news-md==3.4.0) (4.64.0)\n",
            "Requirement already satisfied: typing-extensions<4.2.0,>=3.7.4 in /usr/local/lib/python3.7/dist-packages (from spacy<3.5.0,>=3.4.0->es-core-news-md==3.4.0) (4.1.1)\n",
            "Requirement already satisfied: numpy>=1.15.0 in /usr/local/lib/python3.7/dist-packages (from spacy<3.5.0,>=3.4.0->es-core-news-md==3.4.0) (1.21.6)\n",
            "Requirement already satisfied: pydantic!=1.8,!=1.8.1,<1.10.0,>=1.7.4 in /usr/local/lib/python3.7/dist-packages (from spacy<3.5.0,>=3.4.0->es-core-news-md==3.4.0) (1.9.2)\n",
            "Requirement already satisfied: srsly<3.0.0,>=2.4.3 in /usr/local/lib/python3.7/dist-packages (from spacy<3.5.0,>=3.4.0->es-core-news-md==3.4.0) (2.4.4)\n",
            "Requirement already satisfied: spacy-loggers<2.0.0,>=1.0.0 in /usr/local/lib/python3.7/dist-packages (from spacy<3.5.0,>=3.4.0->es-core-news-md==3.4.0) (1.0.3)\n",
            "Requirement already satisfied: zipp>=0.5 in /usr/local/lib/python3.7/dist-packages (from catalogue<2.1.0,>=2.0.6->spacy<3.5.0,>=3.4.0->es-core-news-md==3.4.0) (3.8.1)\n",
            "Requirement already satisfied: pyparsing!=3.0.5,>=2.0.2 in /usr/local/lib/python3.7/dist-packages (from packaging>=20.0->spacy<3.5.0,>=3.4.0->es-core-news-md==3.4.0) (3.0.9)\n",
            "Requirement already satisfied: smart-open<6.0.0,>=5.2.1 in /usr/local/lib/python3.7/dist-packages (from pathy>=0.3.5->spacy<3.5.0,>=3.4.0->es-core-news-md==3.4.0) (5.2.1)\n",
            "Requirement already satisfied: urllib3!=1.25.0,!=1.25.1,<1.26,>=1.21.1 in /usr/local/lib/python3.7/dist-packages (from requests<3.0.0,>=2.13.0->spacy<3.5.0,>=3.4.0->es-core-news-md==3.4.0) (1.24.3)\n",
            "Requirement already satisfied: idna<3,>=2.5 in /usr/local/lib/python3.7/dist-packages (from requests<3.0.0,>=2.13.0->spacy<3.5.0,>=3.4.0->es-core-news-md==3.4.0) (2.10)\n",
            "Requirement already satisfied: certifi>=2017.4.17 in /usr/local/lib/python3.7/dist-packages (from requests<3.0.0,>=2.13.0->spacy<3.5.0,>=3.4.0->es-core-news-md==3.4.0) (2022.6.15)\n",
            "Requirement already satisfied: chardet<4,>=3.0.2 in /usr/local/lib/python3.7/dist-packages (from requests<3.0.0,>=2.13.0->spacy<3.5.0,>=3.4.0->es-core-news-md==3.4.0) (3.0.4)\n",
            "Requirement already satisfied: blis<0.8.0,>=0.7.8 in /usr/local/lib/python3.7/dist-packages (from thinc<8.2.0,>=8.1.0->spacy<3.5.0,>=3.4.0->es-core-news-md==3.4.0) (0.7.8)\n",
            "Requirement already satisfied: click<9.0.0,>=7.1.1 in /usr/local/lib/python3.7/dist-packages (from typer<0.5.0,>=0.3.0->spacy<3.5.0,>=3.4.0->es-core-news-md==3.4.0) (7.1.2)\n",
            "Requirement already satisfied: MarkupSafe>=0.23 in /usr/local/lib/python3.7/dist-packages (from jinja2->spacy<3.5.0,>=3.4.0->es-core-news-md==3.4.0) (2.0.1)\n",
            "Installing collected packages: es-core-news-md\n",
            "Successfully installed es-core-news-md-3.4.0\n",
            "\u001b[38;5;2m✔ Download and installation successful\u001b[0m\n",
            "You can now load the package via spacy.load('es_core_news_md')\n"
          ]
        }
      ]
    },
    {
      "cell_type": "code",
      "source": [
        "nlp2 = spacy.load(\"es_core_news_md\")"
      ],
      "metadata": {
        "id": "UKNLn_k8cRgW"
      },
      "execution_count": null,
      "outputs": []
    },
    {
      "cell_type": "code",
      "execution_count": null,
      "metadata": {
        "id": "6eAJrv2Zcj9R"
      },
      "outputs": [],
      "source": [
        "text1= nlp2('malo')"
      ]
    },
    {
      "cell_type": "code",
      "execution_count": null,
      "metadata": {
        "id": "PjtHl-1Lcj9R"
      },
      "outputs": [],
      "source": [
        "text2= nlp2('horrible')"
      ]
    },
    {
      "cell_type": "code",
      "source": [
        "text1.similarity(text2) #now we get better results"
      ],
      "metadata": {
        "colab": {
          "base_uri": "https://localhost:8080/"
        },
        "id": "6C2xTYLwcp-Z",
        "outputId": "b1567f12-681c-4eb4-bdc2-cca7b9cdf436"
      },
      "execution_count": null,
      "outputs": [
        {
          "output_type": "execute_result",
          "data": {
            "text/plain": [
              "0.5889570376208377"
            ]
          },
          "metadata": {},
          "execution_count": 44
        }
      ]
    },
    {
      "cell_type": "code",
      "source": [
        "#let's compare some larger snippets of text\n",
        "revision_1 = nlp2('La comida estaba deliciosa')\n",
        "revision_2 = nlp2('La comida estaba excelente')\n",
        "revision_3 = nlp2('No me gustó la comida')\n",
        "revision_4 = nlp2('No me gustó la experiencia')\n",
        "revision_5 = nlp2('La comida no estaba buena')"
      ],
      "metadata": {
        "id": "wSMcB5NJcwxz"
      },
      "execution_count": null,
      "outputs": []
    },
    {
      "cell_type": "code",
      "source": [
        "revision_1.similarity(revision_2)"
      ],
      "metadata": {
        "colab": {
          "base_uri": "https://localhost:8080/"
        },
        "id": "8he0JcUndLEZ",
        "outputId": "8ac4530d-8c8b-4fad-c026-bb5d07b69695"
      },
      "execution_count": null,
      "outputs": [
        {
          "output_type": "execute_result",
          "data": {
            "text/plain": [
              "0.9841328990920907"
            ]
          },
          "metadata": {},
          "execution_count": 46
        }
      ]
    },
    {
      "cell_type": "code",
      "source": [
        "revision_3.similarity(revision_4)"
      ],
      "metadata": {
        "colab": {
          "base_uri": "https://localhost:8080/"
        },
        "id": "yQGk1eecdZvP",
        "outputId": "5f848b83-5926-4475-a88a-fddb9d62d49f"
      },
      "execution_count": null,
      "outputs": [
        {
          "output_type": "execute_result",
          "data": {
            "text/plain": [
              "0.9809007926808403"
            ]
          },
          "metadata": {},
          "execution_count": 47
        }
      ]
    },
    {
      "cell_type": "code",
      "source": [
        "revision_3.similarity(revision_5)"
      ],
      "metadata": {
        "id": "18hS5xBddkxt",
        "outputId": "a1324b78-6fce-4660-fd24-d14bb87aa8dd",
        "colab": {
          "base_uri": "https://localhost:8080/"
        }
      },
      "execution_count": null,
      "outputs": [
        {
          "output_type": "execute_result",
          "data": {
            "text/plain": [
              "0.6037055715091896"
            ]
          },
          "metadata": {},
          "execution_count": 50
        }
      ]
    }
  ],
  "metadata": {
    "kernelspec": {
      "display_name": "Python 3",
      "language": "python",
      "name": "python3"
    },
    "language_info": {
      "codemirror_mode": {
        "name": "ipython",
        "version": 3
      },
      "file_extension": ".py",
      "mimetype": "text/x-python",
      "name": "python",
      "nbconvert_exporter": "python",
      "pygments_lexer": "ipython3",
      "version": "3.7.6"
    },
    "colab": {
      "provenance": [],
      "collapsed_sections": []
    }
  },
  "nbformat": 4,
  "nbformat_minor": 0
}